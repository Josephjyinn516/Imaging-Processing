{
  "nbformat": 4,
  "nbformat_minor": 0,
  "metadata": {
    "colab": {
      "provenance": [],
      "authorship_tag": "ABX9TyP1QHa+uEM+f5jjHRKJ5fbE",
      "include_colab_link": true
    },
    "kernelspec": {
      "name": "python3",
      "display_name": "Python 3"
    },
    "language_info": {
      "name": "python"
    }
  },
  "cells": [
    {
      "cell_type": "markdown",
      "metadata": {
        "id": "view-in-github",
        "colab_type": "text"
      },
      "source": [
        "<a href=\"https://colab.research.google.com/github/Josephjyinn516/Imaging-Processing/blob/main/Image_Processing_in_Python_with_Pillow.ipynb\" target=\"_parent\"><img src=\"https://colab.research.google.com/assets/colab-badge.svg\" alt=\"Open In Colab\"/></a>"
      ]
    },
    {
      "cell_type": "code",
      "execution_count": 2,
      "metadata": {
        "colab": {
          "base_uri": "https://localhost:8080/"
        },
        "id": "e4CtI0t8pEFQ",
        "outputId": "5967b0c4-ee6f-4b64-a408-70e7e8bed70f"
      },
      "outputs": [
        {
          "output_type": "stream",
          "name": "stdout",
          "text": [
            "JPEG\n",
            "RGB\n",
            "(1920, 1280)\n",
            "None\n"
          ]
        }
      ],
      "source": [
        "from PIL import Image\n",
        "\n",
        "image = Image.open('demo_image.jpg')\n",
        "image.show()\n",
        "\n",
        "print(image.format)\n",
        "\n",
        "print(image.mode)\n",
        "\n",
        "print(image.size)\n",
        "\n",
        "print(image.palette)\n"
      ]
    },
    {
      "cell_type": "code",
      "source": [
        "image = Image.open('demo_image.jpg')\n",
        "\n",
        "image.save('new_image.png')"
      ],
      "metadata": {
        "id": "CuTOJ23PpbVK"
      },
      "execution_count": 3,
      "outputs": []
    },
    {
      "cell_type": "code",
      "source": [
        "image = Image.open('demo_image.jpg')\n",
        "new_image = image.resize((400, 400))\n",
        "new_image.save('image_400.jpg')\n",
        "\n",
        "print(image.size)\n",
        "print(new_image.size)\n"
      ],
      "metadata": {
        "colab": {
          "base_uri": "https://localhost:8080/"
        },
        "id": "NcJC7MD5pjnl",
        "outputId": "a9c57656-37c3-492b-ab51-fee899bbc44a"
      },
      "execution_count": 4,
      "outputs": [
        {
          "output_type": "stream",
          "name": "stdout",
          "text": [
            "(1920, 1280)\n",
            "(400, 400)\n"
          ]
        }
      ]
    },
    {
      "cell_type": "code",
      "source": [
        "image = Image.open('demo_image.jpg')\n",
        "image.thumbnail((400, 400))\n",
        "image.save('image_thumbnail.jpg')\n",
        "\n",
        "print(image.size)"
      ],
      "metadata": {
        "colab": {
          "base_uri": "https://localhost:8080/"
        },
        "id": "ZH8J5eIBpwSG",
        "outputId": "ed0a7361-7fef-4023-90f1-248291b564da"
      },
      "execution_count": 5,
      "outputs": [
        {
          "output_type": "stream",
          "name": "stdout",
          "text": [
            "(400, 267)\n"
          ]
        }
      ]
    },
    {
      "cell_type": "code",
      "source": [
        "image = Image.open('demo_image.jpg')\n",
        "box = (200, 300, 700, 600)\n",
        "cropped_image = image.crop(box)\n",
        "cropped_image.save('cropped_image.jpg')\n",
        "\n",
        "print(cropped_image.size)\n"
      ],
      "metadata": {
        "colab": {
          "base_uri": "https://localhost:8080/"
        },
        "id": "mwciMGI7p8q4",
        "outputId": "3f78c55c-fe51-44b4-e3fe-c6761b9c91da"
      },
      "execution_count": 6,
      "outputs": [
        {
          "output_type": "stream",
          "name": "stdout",
          "text": [
            "(500, 300)\n"
          ]
        }
      ]
    },
    {
      "cell_type": "code",
      "source": [
        "image = Image.open('demo_image.jpg')\n",
        "logo = Image.open('logo.png')\n",
        "image_copy = image.copy()\n",
        "position = ((image_copy.width - logo.width), (image_copy.height - logo.height))\n",
        "image_copy.paste(logo, position)\n",
        "image_copy.save('pasted_image.jpg')\n",
        "\n"
      ],
      "metadata": {
        "id": "5vMZUW8VqMtb"
      },
      "execution_count": 7,
      "outputs": []
    },
    {
      "cell_type": "code",
      "source": [
        "image = Image.open('demo_image.jpg')\n",
        "image.rotate(18).save('image_rot_18.jpg')\n"
      ],
      "metadata": {
        "id": "p27LE6uiqooW"
      },
      "execution_count": 8,
      "outputs": []
    },
    {
      "cell_type": "code",
      "source": [
        "image.rotate(18, expand=True).save('image_rot_18.jpg')\n"
      ],
      "metadata": {
        "id": "vnRYoca5q2XJ"
      },
      "execution_count": 9,
      "outputs": []
    },
    {
      "cell_type": "code",
      "source": [
        "image = Image.open('demo_image.jpg')\n",
        "\n",
        "image_flip = image.transpose(Image.FLIP_LEFT_RIGHT)\n",
        "image_flip.save('image_flip.jpg')"
      ],
      "metadata": {
        "id": "DgN0qrylq-6w"
      },
      "execution_count": 11,
      "outputs": []
    }
  ]
}