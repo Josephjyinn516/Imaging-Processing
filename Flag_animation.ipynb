{
  "nbformat": 4,
  "nbformat_minor": 0,
  "metadata": {
    "colab": {
      "provenance": [],
      "authorship_tag": "ABX9TyN5itMefHhIXhPuD1jiTWU2",
      "include_colab_link": true
    },
    "kernelspec": {
      "name": "python3",
      "display_name": "Python 3"
    },
    "language_info": {
      "name": "python"
    }
  },
  "cells": [
    {
      "cell_type": "markdown",
      "metadata": {
        "id": "view-in-github",
        "colab_type": "text"
      },
      "source": [
        "<a href=\"https://colab.research.google.com/github/Josephjyinn516/Imaging-Processing/blob/main/Flag_animation.ipynb\" target=\"_parent\"><img src=\"https://colab.research.google.com/assets/colab-badge.svg\" alt=\"Open In Colab\"/></a>"
      ]
    },
    {
      "cell_type": "code",
      "execution_count": 11,
      "metadata": {
        "id": "kee5t5jS6k6x"
      },
      "outputs": [],
      "source": [
        "from PIL import Image, ImageDraw\n",
        "import math\n",
        "\n",
        "# Parameters\n",
        "width = 200 # Width of the flag\n",
        "height = 200 # Height of the flag\n",
        "num_frames = 30 # Number of frames for animation\n",
        "flag_color = (255, 180, 25) # Red flag color\n",
        "\n",
        "# Create a blank image for the flag\n",
        "flag = Image.new('RGB', (width, height), color=(255, 255, 255))\n",
        "\n",
        "# Create a sequence of frames for animation\n",
        "frames = []\n",
        "for i in range(num_frames):\n",
        "    # Create a new frame with a waving effect\n",
        "    frame = flag.copy()\n",
        "    draw = ImageDraw.Draw(frame)\n",
        "\n",
        "    # Calculate waving effect (sinusoidal movement)\n",
        "    wave_amplitude = 40 # Amplitude of the wave\n",
        "    phase_shift = (math.pi * 2) * (i / num_frames) # Phase shift for animation\n",
        "\n",
        "    # Draw the flag with a wave effect\n",
        "    for x in range(width):\n",
        "        y_offset = math.sin((x / width) * (math.pi * 2) + phase_shift) * wave_amplitude\n",
        "        draw.line([(x, 0), (x, height)], fill=flag_color, width=1)\n",
        "        draw.line([(x, 0), (x, y_offset)], fill=(255, 255, 255)) # Add a white area above the wave\n",
        "\n",
        "    frames.append(frame)\n",
        "\n",
        "# Save the frames as an animated GIF\n",
        "frames[0].save('flag_animation.gif', save_all=True, append_images=frames[1:], optimize=False, duration=50, loop=0)\n"
      ]
    }
  ]
}